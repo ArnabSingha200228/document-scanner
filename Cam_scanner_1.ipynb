{
 "cells": [
  {
   "cell_type": "code",
   "execution_count": 1,
   "id": "e2a2697f-565c-42a2-bacd-50a11249c867",
   "metadata": {},
   "outputs": [],
   "source": [
    "import cv2\n",
    "import numpy as np"
   ]
  },
  {
   "cell_type": "code",
   "execution_count": 2,
   "id": "e6cbb258-fd22-442e-9407-927bc1e0a799",
   "metadata": {},
   "outputs": [],
   "source": [
    "points = []\n",
    "\n",
    "def select_corner(event, x, y, flags, param):\n",
    "    if event == cv2.EVENT_LBUTTONDOWN:\n",
    "        if len(points) < 4:\n",
    "            points.append([x, y])\n",
    "            print(f\"Point {len(points)}: ({x}, {y})\")\n",
    "            # Draw a small circle where the user clicked\n",
    "            cv2.circle(img, (x, y), 5, (0, 255, 0), -1)"
   ]
  },
  {
   "cell_type": "code",
   "execution_count": 3,
   "id": "1695e09c-b73a-45a7-8b9c-e0709a2c3b95",
   "metadata": {},
   "outputs": [],
   "source": [
    "def sort_points(pts):\n",
    "    pts = np.array(pts, dtype=\"float32\")\n",
    "    rect = np.zeros((4, 2), dtype=\"float32\")\n",
    "\n",
    "    s = pts.sum(axis=1)\n",
    "    rect[0] = pts[np.argmin(s)]     # top-left\n",
    "    rect[2] = pts[np.argmax(s)]     # bottom-right\n",
    "\n",
    "    diff = np.diff(pts, axis=1)\n",
    "    rect[1] = pts[np.argmin(diff)]  # top-right\n",
    "    rect[3] = pts[np.argmax(diff)]  # bottom-left\n",
    "\n",
    "    return rect"
   ]
  },
  {
   "cell_type": "code",
   "execution_count": 4,
   "id": "6a35a9a3-4a94-4de5-8259-74393e76bda7",
   "metadata": {},
   "outputs": [],
   "source": [
    "def alignImages(img,pts):\n",
    " \n",
    " # Destination A4 size (2480x3508 for 72 DPI)\n",
    "    width, height = 595, 842\n",
    "    dst_pts = np.array([\n",
    "        [0, 0],\n",
    "        [width - 1, 0],\n",
    "        [width - 1, height - 1],\n",
    "        [0, height - 1]\n",
    "    ], dtype=np.float32)\n",
    "\n",
    "    # Find homography\n",
    "    h, _ = cv2.findHomography(pts, dst_pts, cv2.RANSAC)\n",
    " \n",
    "  # Use homography\n",
    "    imReg = cv2.warpPerspective(img, h, (width, height))\n",
    "    \n",
    "    return imReg"
   ]
  },
  {
   "cell_type": "code",
   "execution_count": 5,
   "id": "633e7795-b549-4e45-bf9c-606c98112477",
   "metadata": {},
   "outputs": [
    {
     "name": "stdout",
     "output_type": "stream",
     "text": [
      "Point 1: (130, 135)\n",
      "Point 2: (333, 155)\n",
      "Point 3: (250, 521)\n",
      "Point 4: (26, 425)\n"
     ]
    }
   ],
   "source": [
    "img = cv2.resize(cv2.imread(\"test_img.jpg\", cv2.IMREAD_COLOR),(400,600))\n",
    "\n",
    "# selecting corner points\n",
    "cv2.namedWindow(\"camscanner\")\n",
    "cv2.setMouseCallback(\"camscanner\", select_corner)\n",
    "\n",
    "while True:\n",
    "    cv2.imshow(\"camscanner\", img)\n",
    "    key = cv2.waitKey(1) & 0xFF\n",
    "    if key == 13:\n",
    "        cv2.destroyAllWindows()\n",
    "        # Aligning images\n",
    "        imReg = alignImages(img,sort_points(points))\n",
    "        out_img=cv2.resize(imReg,(400,600))\n",
    "        cv2.imwrite(\"output.jpg\",out_img) # Write aligned image to disk.\n",
    "        cv2.imshow(\"preview\",out_img)\n",
    "        cv2.waitKey(0)\n",
    "        cv2.destroyAllWindows()\n",
    "        break\n",
    "    # ESC to exit\n",
    "    if key == 27:\n",
    "        print(\"Scanning Cancelled\")\n",
    "        cv2.destroyAllWindows()\n",
    "        break"
   ]
  },
  {
   "cell_type": "code",
   "execution_count": null,
   "id": "6eef2f63-7fbd-4a63-aad0-57a7569af8e0",
   "metadata": {},
   "outputs": [],
   "source": []
  }
 ],
 "metadata": {
  "kernelspec": {
   "display_name": "Python 3 (ipykernel)",
   "language": "python",
   "name": "python3"
  },
  "language_info": {
   "codemirror_mode": {
    "name": "ipython",
    "version": 3
   },
   "file_extension": ".py",
   "mimetype": "text/x-python",
   "name": "python",
   "nbconvert_exporter": "python",
   "pygments_lexer": "ipython3",
   "version": "3.12.7"
  }
 },
 "nbformat": 4,
 "nbformat_minor": 5
}
