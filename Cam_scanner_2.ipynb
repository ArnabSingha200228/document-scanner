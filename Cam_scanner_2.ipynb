{
 "cells": [
  {
   "cell_type": "code",
   "execution_count": 18,
   "id": "e2a2697f-565c-42a2-bacd-50a11249c867",
   "metadata": {},
   "outputs": [],
   "source": [
    "import cv2\n",
    "import imutils\n",
    "import numpy as np"
   ]
  },
  {
   "cell_type": "code",
   "execution_count": 19,
   "id": "2dab7fca-7fb9-4b29-83cb-5a49dcd93a85",
   "metadata": {},
   "outputs": [],
   "source": [
    "def get_corner_by_contour(img):\n",
    "    imcopy=img.copy()\n",
    "    gray = cv2.cvtColor(img, cv2.COLOR_BGR2GRAY)\n",
    "\n",
    "    # Apply thresholding\n",
    "    _, img = cv2.threshold(gray, 126, 255, cv2.THRESH_BINARY)\n",
    "    \n",
    "    # Apply erotion to reduce white noise\n",
    "    kernel = np.ones((2, 2), np.uint8)\n",
    "    img = cv2.erode(img,kernel,iterations=1)\n",
    "    \n",
    "    # Find contours\n",
    "    contours = cv2.findContours(img, cv2.RETR_LIST, cv2.CHAIN_APPROX_SIMPLE)\n",
    "    contours=imutils.grab_contours(contours)\n",
    "    # Sort contours by area (largest first)\n",
    "    contours = sorted(contours, key=cv2.contourArea, reverse=True)[:5]\n",
    "\n",
    "    cimg=cv2.drawContours(imcopy,contours,0,(0,0,255),4)\n",
    "    \n",
    "    pts=None\n",
    "    # Loop through contours and look for a 4-point polygon\n",
    "    for cnt in contours:\n",
    "        peri = cv2.arcLength(cnt, True)\n",
    "        approx = cv2.approxPolyDP(cnt, 0.02 * peri, True)\n",
    "    \n",
    "        if len(approx) == 4:\n",
    "            # Found the document contour\n",
    "            # cv2.drawContours(img, [approx], -1, (0, 255, 0), 4)\n",
    "    \n",
    "            # Extract the corner points\n",
    "            pts = approx.reshape(4, 2)\n",
    "            print(\"Corner Points:\")\n",
    "            print(pts)\n",
    "            break\n",
    "    \n",
    "    return pts"
   ]
  },
  {
   "cell_type": "code",
   "execution_count": 20,
   "id": "c59b21bc-611c-44a9-a3c5-499fbf8ce4b5",
   "metadata": {},
   "outputs": [],
   "source": [
    "def sort_points(pts):\n",
    "    pts = np.array(pts, dtype=\"float32\")\n",
    "    rect = np.zeros((4, 2), dtype=\"float32\")\n",
    "\n",
    "    s = pts.sum(axis=1)\n",
    "    rect[0] = pts[np.argmin(s)]     # top-left\n",
    "    rect[2] = pts[np.argmax(s)]     # bottom-right\n",
    "\n",
    "    diff = np.diff(pts, axis=1)\n",
    "    rect[1] = pts[np.argmin(diff)]  # top-right\n",
    "    rect[3] = pts[np.argmax(diff)]  # bottom-left\n",
    "\n",
    "    return rect"
   ]
  },
  {
   "cell_type": "code",
   "execution_count": 21,
   "id": "6a35a9a3-4a94-4de5-8259-74393e76bda7",
   "metadata": {},
   "outputs": [],
   "source": [
    "def alignImages(img,pts):\n",
    " \n",
    " # Destination A4 size (2480x3508 for 300 DPI)\n",
    "    width, height = 2480,3508\n",
    "    dst_pts = np.array([\n",
    "        [0, 0],\n",
    "        [width - 1, 0],\n",
    "        [width - 1, height - 1],\n",
    "        [0, height - 1]\n",
    "    ], dtype=np.float32)\n",
    "    \n",
    "    # Convert images to grayscale\n",
    "    imGray = cv2.cvtColor(img, cv2.COLOR_BGR2GRAY)\n",
    "    # Find homography\n",
    "    h, _ = cv2.findHomography(pts, dst_pts, cv2.RANSAC)\n",
    " \n",
    "  # Use homography\n",
    "    channels = 3\n",
    "    imReg = cv2.warpPerspective(img, h, (width, height))\n",
    "    \n",
    "    return imReg"
   ]
  },
  {
   "cell_type": "code",
   "execution_count": 22,
   "id": "633e7795-b549-4e45-bf9c-606c98112477",
   "metadata": {},
   "outputs": [
    {
     "name": "stdout",
     "output_type": "stream",
     "text": [
      "Corner Points:\n",
      "[[ 97  77]\n",
      " [ 30 511]\n",
      " [349 526]\n",
      " [312  77]]\n"
     ]
    }
   ],
   "source": [
    "img = cv2.resize(cv2.imread(\"test1.jpeg\", cv2.IMREAD_COLOR),(400,600))\n",
    "orig = img.copy()\n",
    "# selecting corner points\n",
    "cv2.namedWindow(\"camscanner\")\n",
    "cv2.imshow(\"camscanner\", img)\n",
    "points=get_corner_by_contour(img)\n",
    "imReg = alignImages(orig, sort_points(points))\n",
    "out_img=cv2.resize(imReg,(400,600))\n",
    "cv2.imwrite(\"output.jpg\",out_img) # Write aligned image to disk.\n",
    "cv2.imshow(\"preview\",out_img)\n",
    "cv2.waitKey(0)\n",
    "cv2.destroyAllWindows()"
   ]
  }
 ],
 "metadata": {
  "kernelspec": {
   "display_name": "Python 3 (ipykernel)",
   "language": "python",
   "name": "python3"
  },
  "language_info": {
   "codemirror_mode": {
    "name": "ipython",
    "version": 3
   },
   "file_extension": ".py",
   "mimetype": "text/x-python",
   "name": "python",
   "nbconvert_exporter": "python",
   "pygments_lexer": "ipython3",
   "version": "3.10.8"
  }
 },
 "nbformat": 4,
 "nbformat_minor": 5
}
